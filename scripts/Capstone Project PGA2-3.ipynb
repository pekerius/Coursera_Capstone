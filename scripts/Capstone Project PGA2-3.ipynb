{
 "cells": [
  {
   "cell_type": "markdown",
   "metadata": {},
   "source": [
    "Part 1 for \"Segmenting and Clustering Neighborhoods in Toronto\" Peer Graded Assignment"
   ]
  },
  {
   "cell_type": "markdown",
   "metadata": {},
   "source": [
    "First we import pandas:"
   ]
  },
  {
   "cell_type": "code",
   "execution_count": 1,
   "metadata": {},
   "outputs": [],
   "source": [
    "import pandas as pd"
   ]
  },
  {
   "cell_type": "markdown",
   "metadata": {},
   "source": [
    "Then we take the first table from the provided link with the code below:"
   ]
  },
  {
   "cell_type": "code",
   "execution_count": 2,
   "metadata": {},
   "outputs": [],
   "source": [
    "data = pd.read_html('http://en.wikipedia.org/wiki/List_of_postal_codes_of_Canada:_M')[0]"
   ]
  },
  {
   "cell_type": "markdown",
   "metadata": {},
   "source": [
    "Next 2 steps involve removing 'Borough' columns with 'Not assigned' values, resetting the index and removing the unnecessary 'index' column:"
   ]
  },
  {
   "cell_type": "code",
   "execution_count": 3,
   "metadata": {},
   "outputs": [],
   "source": [
    "data = data[data['Borough'] != 'Not assigned'].reset_index()"
   ]
  },
  {
   "cell_type": "code",
   "execution_count": 4,
   "metadata": {},
   "outputs": [],
   "source": [
    "data.drop('index', axis = 'columns', inplace = True)"
   ]
  },
  {
   "cell_type": "code",
   "execution_count": 5,
   "metadata": {},
   "outputs": [
    {
     "data": {
      "text/html": [
       "<div>\n",
       "<style scoped>\n",
       "    .dataframe tbody tr th:only-of-type {\n",
       "        vertical-align: middle;\n",
       "    }\n",
       "\n",
       "    .dataframe tbody tr th {\n",
       "        vertical-align: top;\n",
       "    }\n",
       "\n",
       "    .dataframe thead th {\n",
       "        text-align: right;\n",
       "    }\n",
       "</style>\n",
       "<table border=\"1\" class=\"dataframe\">\n",
       "  <thead>\n",
       "    <tr style=\"text-align: right;\">\n",
       "      <th></th>\n",
       "      <th>Postal Code</th>\n",
       "      <th>Borough</th>\n",
       "      <th>Neighbourhood</th>\n",
       "    </tr>\n",
       "  </thead>\n",
       "  <tbody>\n",
       "    <tr>\n",
       "      <th>0</th>\n",
       "      <td>M3A</td>\n",
       "      <td>North York</td>\n",
       "      <td>Parkwoods</td>\n",
       "    </tr>\n",
       "    <tr>\n",
       "      <th>1</th>\n",
       "      <td>M4A</td>\n",
       "      <td>North York</td>\n",
       "      <td>Victoria Village</td>\n",
       "    </tr>\n",
       "    <tr>\n",
       "      <th>2</th>\n",
       "      <td>M5A</td>\n",
       "      <td>Downtown Toronto</td>\n",
       "      <td>Regent Park, Harbourfront</td>\n",
       "    </tr>\n",
       "    <tr>\n",
       "      <th>3</th>\n",
       "      <td>M6A</td>\n",
       "      <td>North York</td>\n",
       "      <td>Lawrence Manor, Lawrence Heights</td>\n",
       "    </tr>\n",
       "    <tr>\n",
       "      <th>4</th>\n",
       "      <td>M7A</td>\n",
       "      <td>Downtown Toronto</td>\n",
       "      <td>Queen's Park, Ontario Provincial Government</td>\n",
       "    </tr>\n",
       "    <tr>\n",
       "      <th>...</th>\n",
       "      <td>...</td>\n",
       "      <td>...</td>\n",
       "      <td>...</td>\n",
       "    </tr>\n",
       "    <tr>\n",
       "      <th>98</th>\n",
       "      <td>M8X</td>\n",
       "      <td>Etobicoke</td>\n",
       "      <td>The Kingsway, Montgomery Road, Old Mill North</td>\n",
       "    </tr>\n",
       "    <tr>\n",
       "      <th>99</th>\n",
       "      <td>M4Y</td>\n",
       "      <td>Downtown Toronto</td>\n",
       "      <td>Church and Wellesley</td>\n",
       "    </tr>\n",
       "    <tr>\n",
       "      <th>100</th>\n",
       "      <td>M7Y</td>\n",
       "      <td>East Toronto</td>\n",
       "      <td>Business reply mail Processing Centre, South C...</td>\n",
       "    </tr>\n",
       "    <tr>\n",
       "      <th>101</th>\n",
       "      <td>M8Y</td>\n",
       "      <td>Etobicoke</td>\n",
       "      <td>Old Mill South, King's Mill Park, Sunnylea, Hu...</td>\n",
       "    </tr>\n",
       "    <tr>\n",
       "      <th>102</th>\n",
       "      <td>M8Z</td>\n",
       "      <td>Etobicoke</td>\n",
       "      <td>Mimico NW, The Queensway West, South of Bloor,...</td>\n",
       "    </tr>\n",
       "  </tbody>\n",
       "</table>\n",
       "<p>103 rows × 3 columns</p>\n",
       "</div>"
      ],
      "text/plain": [
       "    Postal Code           Borough  \\\n",
       "0           M3A        North York   \n",
       "1           M4A        North York   \n",
       "2           M5A  Downtown Toronto   \n",
       "3           M6A        North York   \n",
       "4           M7A  Downtown Toronto   \n",
       "..          ...               ...   \n",
       "98          M8X         Etobicoke   \n",
       "99          M4Y  Downtown Toronto   \n",
       "100         M7Y      East Toronto   \n",
       "101         M8Y         Etobicoke   \n",
       "102         M8Z         Etobicoke   \n",
       "\n",
       "                                         Neighbourhood  \n",
       "0                                            Parkwoods  \n",
       "1                                     Victoria Village  \n",
       "2                            Regent Park, Harbourfront  \n",
       "3                     Lawrence Manor, Lawrence Heights  \n",
       "4          Queen's Park, Ontario Provincial Government  \n",
       "..                                                 ...  \n",
       "98       The Kingsway, Montgomery Road, Old Mill North  \n",
       "99                                Church and Wellesley  \n",
       "100  Business reply mail Processing Centre, South C...  \n",
       "101  Old Mill South, King's Mill Park, Sunnylea, Hu...  \n",
       "102  Mimico NW, The Queensway West, South of Bloor,...  \n",
       "\n",
       "[103 rows x 3 columns]"
      ]
     },
     "execution_count": 5,
     "metadata": {},
     "output_type": "execute_result"
    }
   ],
   "source": [
    "data"
   ]
  },
  {
   "cell_type": "markdown",
   "metadata": {},
   "source": [
    "This last row below gives the shape of our dataframe:"
   ]
  },
  {
   "cell_type": "code",
   "execution_count": 6,
   "metadata": {},
   "outputs": [
    {
     "data": {
      "text/plain": [
       "(103, 3)"
      ]
     },
     "execution_count": 6,
     "metadata": {},
     "output_type": "execute_result"
    }
   ],
   "source": [
    "data.shape"
   ]
  },
  {
   "cell_type": "markdown",
   "metadata": {},
   "source": [
    "Coordinate Values for the 103 Postal Codes are extracted with the code below:"
   ]
  },
  {
   "cell_type": "code",
   "execution_count": 7,
   "metadata": {},
   "outputs": [],
   "source": [
    "gc = pd.read_csv('Geospatial_Coordinates.csv')\n"
   ]
  },
  {
   "cell_type": "markdown",
   "metadata": {},
   "source": [
    "The new dataframe 'gc' is inner joined by the initial dataframe 'data' on key 'Postal Code'"
   ]
  },
  {
   "cell_type": "code",
   "execution_count": 8,
   "metadata": {},
   "outputs": [],
   "source": [
    "datanew = pd.merge(data, gc, on = 'Postal Code', how = 'inner')"
   ]
  },
  {
   "cell_type": "code",
   "execution_count": 9,
   "metadata": {},
   "outputs": [
    {
     "data": {
      "text/html": [
       "<div>\n",
       "<style scoped>\n",
       "    .dataframe tbody tr th:only-of-type {\n",
       "        vertical-align: middle;\n",
       "    }\n",
       "\n",
       "    .dataframe tbody tr th {\n",
       "        vertical-align: top;\n",
       "    }\n",
       "\n",
       "    .dataframe thead th {\n",
       "        text-align: right;\n",
       "    }\n",
       "</style>\n",
       "<table border=\"1\" class=\"dataframe\">\n",
       "  <thead>\n",
       "    <tr style=\"text-align: right;\">\n",
       "      <th></th>\n",
       "      <th>Postal Code</th>\n",
       "      <th>Borough</th>\n",
       "      <th>Neighbourhood</th>\n",
       "      <th>Latitude</th>\n",
       "      <th>Longitude</th>\n",
       "    </tr>\n",
       "  </thead>\n",
       "  <tbody>\n",
       "    <tr>\n",
       "      <th>0</th>\n",
       "      <td>M3A</td>\n",
       "      <td>North York</td>\n",
       "      <td>Parkwoods</td>\n",
       "      <td>43.753259</td>\n",
       "      <td>-79.329656</td>\n",
       "    </tr>\n",
       "    <tr>\n",
       "      <th>1</th>\n",
       "      <td>M4A</td>\n",
       "      <td>North York</td>\n",
       "      <td>Victoria Village</td>\n",
       "      <td>43.725882</td>\n",
       "      <td>-79.315572</td>\n",
       "    </tr>\n",
       "    <tr>\n",
       "      <th>2</th>\n",
       "      <td>M5A</td>\n",
       "      <td>Downtown Toronto</td>\n",
       "      <td>Regent Park, Harbourfront</td>\n",
       "      <td>43.654260</td>\n",
       "      <td>-79.360636</td>\n",
       "    </tr>\n",
       "    <tr>\n",
       "      <th>3</th>\n",
       "      <td>M6A</td>\n",
       "      <td>North York</td>\n",
       "      <td>Lawrence Manor, Lawrence Heights</td>\n",
       "      <td>43.718518</td>\n",
       "      <td>-79.464763</td>\n",
       "    </tr>\n",
       "    <tr>\n",
       "      <th>4</th>\n",
       "      <td>M7A</td>\n",
       "      <td>Downtown Toronto</td>\n",
       "      <td>Queen's Park, Ontario Provincial Government</td>\n",
       "      <td>43.662301</td>\n",
       "      <td>-79.389494</td>\n",
       "    </tr>\n",
       "    <tr>\n",
       "      <th>...</th>\n",
       "      <td>...</td>\n",
       "      <td>...</td>\n",
       "      <td>...</td>\n",
       "      <td>...</td>\n",
       "      <td>...</td>\n",
       "    </tr>\n",
       "    <tr>\n",
       "      <th>98</th>\n",
       "      <td>M8X</td>\n",
       "      <td>Etobicoke</td>\n",
       "      <td>The Kingsway, Montgomery Road, Old Mill North</td>\n",
       "      <td>43.653654</td>\n",
       "      <td>-79.506944</td>\n",
       "    </tr>\n",
       "    <tr>\n",
       "      <th>99</th>\n",
       "      <td>M4Y</td>\n",
       "      <td>Downtown Toronto</td>\n",
       "      <td>Church and Wellesley</td>\n",
       "      <td>43.665860</td>\n",
       "      <td>-79.383160</td>\n",
       "    </tr>\n",
       "    <tr>\n",
       "      <th>100</th>\n",
       "      <td>M7Y</td>\n",
       "      <td>East Toronto</td>\n",
       "      <td>Business reply mail Processing Centre, South C...</td>\n",
       "      <td>43.662744</td>\n",
       "      <td>-79.321558</td>\n",
       "    </tr>\n",
       "    <tr>\n",
       "      <th>101</th>\n",
       "      <td>M8Y</td>\n",
       "      <td>Etobicoke</td>\n",
       "      <td>Old Mill South, King's Mill Park, Sunnylea, Hu...</td>\n",
       "      <td>43.636258</td>\n",
       "      <td>-79.498509</td>\n",
       "    </tr>\n",
       "    <tr>\n",
       "      <th>102</th>\n",
       "      <td>M8Z</td>\n",
       "      <td>Etobicoke</td>\n",
       "      <td>Mimico NW, The Queensway West, South of Bloor,...</td>\n",
       "      <td>43.628841</td>\n",
       "      <td>-79.520999</td>\n",
       "    </tr>\n",
       "  </tbody>\n",
       "</table>\n",
       "<p>103 rows × 5 columns</p>\n",
       "</div>"
      ],
      "text/plain": [
       "    Postal Code           Borough  \\\n",
       "0           M3A        North York   \n",
       "1           M4A        North York   \n",
       "2           M5A  Downtown Toronto   \n",
       "3           M6A        North York   \n",
       "4           M7A  Downtown Toronto   \n",
       "..          ...               ...   \n",
       "98          M8X         Etobicoke   \n",
       "99          M4Y  Downtown Toronto   \n",
       "100         M7Y      East Toronto   \n",
       "101         M8Y         Etobicoke   \n",
       "102         M8Z         Etobicoke   \n",
       "\n",
       "                                         Neighbourhood   Latitude  Longitude  \n",
       "0                                            Parkwoods  43.753259 -79.329656  \n",
       "1                                     Victoria Village  43.725882 -79.315572  \n",
       "2                            Regent Park, Harbourfront  43.654260 -79.360636  \n",
       "3                     Lawrence Manor, Lawrence Heights  43.718518 -79.464763  \n",
       "4          Queen's Park, Ontario Provincial Government  43.662301 -79.389494  \n",
       "..                                                 ...        ...        ...  \n",
       "98       The Kingsway, Montgomery Road, Old Mill North  43.653654 -79.506944  \n",
       "99                                Church and Wellesley  43.665860 -79.383160  \n",
       "100  Business reply mail Processing Centre, South C...  43.662744 -79.321558  \n",
       "101  Old Mill South, King's Mill Park, Sunnylea, Hu...  43.636258 -79.498509  \n",
       "102  Mimico NW, The Queensway West, South of Bloor,...  43.628841 -79.520999  \n",
       "\n",
       "[103 rows x 5 columns]"
      ]
     },
     "execution_count": 9,
     "metadata": {},
     "output_type": "execute_result"
    }
   ],
   "source": [
    "datanew"
   ]
  },
  {
   "cell_type": "markdown",
   "metadata": {},
   "source": [
    "# PART 3\n",
    "\n",
    "To cluster the data, first I have imported library 'matplotlib.pyplot' to see as if points show similarity about their locations in the 2D space, as the assignment suggested I have only used the coordinate values of Boroughs, whose name contains the word 'Toronto':"
   ]
  },
  {
   "cell_type": "code",
   "execution_count": 27,
   "metadata": {},
   "outputs": [],
   "source": [
    "import matplotlib.pyplot as plt"
   ]
  },
  {
   "cell_type": "code",
   "execution_count": 28,
   "metadata": {},
   "outputs": [
    {
     "data": {
      "text/plain": [
       "<matplotlib.collections.PathCollection at 0x249c0759880>"
      ]
     },
     "execution_count": 28,
     "metadata": {},
     "output_type": "execute_result"
    },
    {
     "data": {
      "image/png": "[encoded data removed]",
      "text/plain": [
       "<Figure size 432x288 with 1 Axes>"
      ]
     },
     "metadata": {
      "needs_background": "light"
     },
     "output_type": "display_data"
    }
   ],
   "source": [
    "plt.scatter(datanew[datanew['Borough'].str.contains(r'Toronto')]['Latitude'], datanew[datanew['Borough'].str.contains(r'Toronto')]['Longitude'])"
   ]
  },
  {
   "cell_type": "markdown",
   "metadata": {},
   "source": [
    "Looking at the scatterplot, there seems to be 4 clusters :\n",
    "\n",
    "1) Points on the north\n",
    "2) Points on the left mid\n",
    "3) Points on the south\n",
    "4) Points on the east\n",
    "\n",
    "So I will perform k-means clustering with k = 4, and for simplicity I will define a new dataframe from the original 'datanew' dataframe to work with data in which 'Borough' column includes the word 'Toronto':"
   ]
  },
  {
   "cell_type": "code",
   "execution_count": 253,
   "metadata": {},
   "outputs": [],
   "source": [
    "dn = datanew[datanew['Borough'].str.contains(r'Toronto')].reset_index()"
   ]
  },
  {
   "cell_type": "code",
   "execution_count": 254,
   "metadata": {},
   "outputs": [],
   "source": [
    "dn.drop('index', axis = 'columns', inplace = True)"
   ]
  },
  {
   "cell_type": "code",
   "execution_count": 323,
   "metadata": {},
   "outputs": [],
   "source": [
    "import numpy as np\n",
    "from sklearn.cluster import KMeans"
   ]
  },
  {
   "cell_type": "code",
   "execution_count": 324,
   "metadata": {},
   "outputs": [],
   "source": [
    "k_means = KMeans(init=\"k-means++\", n_clusters=4, n_init=12)"
   ]
  },
  {
   "cell_type": "code",
   "execution_count": 325,
   "metadata": {},
   "outputs": [],
   "source": [
    "A = dn[['Latitude', 'Longitude']].values"
   ]
  },
  {
   "cell_type": "code",
   "execution_count": 355,
   "metadata": {},
   "outputs": [
    {
     "data": {
      "text/plain": [
       "array([[ 43.66943648, -79.32465436],\n",
       "       [ 43.65506566, -79.44547176],\n",
       "       [ 43.6547639 , -79.38308287],\n",
       "       [ 43.70563855, -79.39811351]])"
      ]
     },
     "execution_count": 355,
     "metadata": {},
     "output_type": "execute_result"
    }
   ],
   "source": [
    "k_means.fit(A)\n",
    "k_means_labels = k_means.labels_\n",
    "k_means_cluster_centers = k_means.cluster_centers_\n",
    "k_means_cluster_centers"
   ]
  },
  {
   "cell_type": "code",
   "execution_count": 356,
   "metadata": {
    "scrolled": true
   },
   "outputs": [
    {
     "data": {
      "image/png": "[encoded data removed]",
      "text/plain": [
       "<Figure size 1080x720 with 1 Axes>"
      ]
     },
     "metadata": {},
     "output_type": "display_data"
    }
   ],
   "source": [
    "fig = plt.figure(figsize=(15, 10))\n",
    "\n",
    "colors = plt.cm.Spectral(np.linspace(0, 1, len(set(k_means_labels))))\n",
    "\n",
    "\n",
    "ax = fig.add_subplot(1, 1, 1)\n",
    "\n",
    "for k, col in zip(range(len([[43.66943648, -79.32465436], [43.65506566, -79.44547176], [43.6547639 , -79.38308287], [43.70563855, -79.39811351]])), colors):\n",
    "\n",
    "    my_members = (k_means_labels == k)\n",
    "    \n",
    "    cluster_center = k_means_cluster_centers[k]\n",
    "    \n",
    "    ax.plot(A[my_members, 0], A[my_members, 1], 'w', markerfacecolor=col, marker='.', markersize=30)\n",
    "    \n",
    "    ax.plot(cluster_center[0], cluster_center[1], 'o', markerfacecolor=col,  markeredgecolor='k', markersize=30)\n",
    "\n",
    "ax.set_title('K-means Clustering for Neighborhoods')\n",
    "\n",
    "ax.set_xticks(())\n",
    "\n",
    "ax.set_yticks(())\n",
    "\n",
    "plt.show()"
   ]
  },
  {
   "cell_type": "markdown",
   "metadata": {},
   "source": [
    "The figure above suggests that with simple use of lat and lon values, we can see the four clusters. In order to verify our findings, we try to plot the neighborhoods on folium map, using geo specifics for Toronto:"
   ]
  },
  {
   "cell_type": "code",
   "execution_count": 335,
   "metadata": {},
   "outputs": [
    {
     "name": "stdout",
     "output_type": "stream",
     "text": [
      "Collecting package metadata (current_repodata.json): ...working... done\n",
      "Solving environment: ...working... done\n",
      "\n",
      "# All requested packages already installed.\n",
      "\n"
     ]
    }
   ],
   "source": [
    "!conda install -c conda-forge geopy --yes \n",
    "from geopy.geocoders import Nominatim \n",
    "import folium\n"
   ]
  },
  {
   "cell_type": "code",
   "execution_count": 334,
   "metadata": {},
   "outputs": [
    {
     "name": "stdout",
     "output_type": "stream",
     "text": [
      "The geograpical coordinate of Toronto are 43.6534817, -79.3839347.\n"
     ]
    }
   ],
   "source": [
    "address = 'Toronto'\n",
    "\n",
    "geolocator = Nominatim(user_agent=\"ny_explorer\")\n",
    "location = geolocator.geocode(address)\n",
    "latitude = location.latitude\n",
    "longitude = location.longitude\n",
    "print('The geograpical coordinate of Toronto are {}, {}.'.format(latitude, longitude))"
   ]
  },
  {
   "cell_type": "markdown",
   "metadata": {},
   "source": [
    "The map below confirms our findings, actually it shows the 90 degrees counterclockwise rotated view of what has been found in the K-means algorithm above."
   ]
  },
  {
   "cell_type": "code",
   "execution_count": 342,
   "metadata": {},
   "outputs": [
    {
     "data": {
      "text/html": [
       "<div style=\"width:100%;\"><div style=\"position:relative;width:100%;height:0;padding-bottom:60%;\"><iframe src=\"data:text/html;charset=utf-8;base64,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\" style=\"position:absolute;width:100%;height:100%;left:0;top:0;border:none !important;\" allowfullscreen webkitallowfullscreen mozallowfullscreen></iframe></div></div>"
      ],
      "text/plain": [
       "<folium.folium.Map at 0x249c5196550>"
      ]
     },
     "execution_count": 342,
     "metadata": {},
     "output_type": "execute_result"
    }
   ],
   "source": [
    "map_toronto = folium.Map(location=[latitude, longitude], zoom_start=12)\n",
    "\n",
    "# add markers to map\n",
    "for lat, lng, borough, neighborhood in zip(dn['Latitude'], dn['Longitude'], dn['Borough'], dn['Neighbourhood']):\n",
    "    label = '{}, {}'.format(neighborhood, borough)\n",
    "    label = folium.Popup(label, parse_html=True)\n",
    "    folium.CircleMarker(\n",
    "        [lat, lng],\n",
    "        radius=5,\n",
    "        popup=label,\n",
    "        color='blue',\n",
    "        fill=True,\n",
    "        fill_color='#3186cc',\n",
    "        fill_opacity=0.7,\n",
    "        parse_html=False).add_to(map_toronto)  \n",
    "    \n",
    "map_toronto"
   ]
  }
 ],
 "metadata": {
  "kernelspec": {
   "display_name": "Python 3",
   "language": "python",
   "name": "python3"
  },
  "language_info": {
   "codemirror_mode": {
    "name": "ipython",
    "version": 3
   },
   "file_extension": ".py",
   "mimetype": "text/x-python",
   "name": "python",
   "nbconvert_exporter": "python",
   "pygments_lexer": "ipython3",
   "version": "3.8.3"
  }
 },
 "nbformat": 4,
 "nbformat_minor": 4
}
